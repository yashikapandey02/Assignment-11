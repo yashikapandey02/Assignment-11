{
 "cells": [
  {
   "cell_type": "code",
   "execution_count": null,
   "id": "e42aa3c6",
   "metadata": {},
   "outputs": [],
   "source": [
    "1. Create an assert statement that throws an AssertionError if the variable spam is a negative\n",
    "integer."
   ]
  },
  {
   "cell_type": "code",
   "execution_count": null,
   "id": "43b335b3",
   "metadata": {},
   "outputs": [],
   "source": [
    "Ans:assert(spam >0, 'The spam variable is negative.')"
   ]
  },
  {
   "cell_type": "code",
   "execution_count": null,
   "id": "ef64cb01",
   "metadata": {},
   "outputs": [],
   "source": [
    "2. Write an assert statement that triggers an AssertionError if the variables eggs and bacon contain\n",
    "strings that are the same as each other, even if their cases are different (that is, &#39;hello&#39; and &#39;hello&#39; are\n",
    "considered the same, and &#39;goodbye&#39; and &#39;GOODbye&#39; are also considered the same)."
   ]
  },
  {
   "cell_type": "code",
   "execution_count": null,
   "id": "d3745e8b",
   "metadata": {},
   "outputs": [],
   "source": [
    "Ans: assert(eggs.lower() != bacon.lower(), 'The eggs and bacon variables are the same!') \n",
    "or assert(eggs.upper() != bacon.upper(), 'The eggs and bacon variables are the same!')"
   ]
  },
  {
   "cell_type": "code",
   "execution_count": null,
   "id": "dd3a2dd1",
   "metadata": {},
   "outputs": [],
   "source": [
    "3. Create an assert statement that throws an AssertionError every time."
   ]
  },
  {
   "cell_type": "code",
   "execution_count": null,
   "id": "925b43b8",
   "metadata": {},
   "outputs": [],
   "source": [
    "Ans: assert(False, 'This assertion always triggers.')"
   ]
  },
  {
   "cell_type": "code",
   "execution_count": null,
   "id": "d78d2415",
   "metadata": {},
   "outputs": [],
   "source": [
    "4. What are the two lines that must be present in your software in order to call logging.debug()?"
   ]
  },
  {
   "cell_type": "code",
   "execution_count": null,
   "id": "131a6582",
   "metadata": {},
   "outputs": [],
   "source": [
    "Ans: To be able to call logging.debug(), you must have these two lines at the start of your program: \n",
    "import logging logging.basicConfig(level=logging.DEBUG, format=' %(asctime)s - %(levelname)s - %(message)s')"
   ]
  },
  {
   "cell_type": "code",
   "execution_count": null,
   "id": "72d8a406",
   "metadata": {},
   "outputs": [],
   "source": [
    "5. What are the two lines that your program must have in order to have logging.debug() send a\n",
    "logging message to a file named programLog.txt?"
   ]
  },
  {
   "cell_type": "code",
   "execution_count": null,
   "id": "34333a50",
   "metadata": {},
   "outputs": [],
   "source": [
    "Ans:  import logging logging.basicConfig(filename='programLog.txt', level=logging.DEBUG, \n",
    "    format=' %(asctime)s - %(levelname)s - %(message)s')"
   ]
  },
  {
   "cell_type": "code",
   "execution_count": null,
   "id": "a8fa564e",
   "metadata": {},
   "outputs": [],
   "source": [
    "6. What are the ﬁve logging levels? "
   ]
  },
  {
   "cell_type": "code",
   "execution_count": null,
   "id": "e373f4b5",
   "metadata": {},
   "outputs": [],
   "source": [
    "Ans: Five level of logging are:DEBUG, INFO, WARNING, ERROR, and CRITICAL"
   ]
  },
  {
   "cell_type": "code",
   "execution_count": null,
   "id": "3f8e66b6",
   "metadata": {},
   "outputs": [],
   "source": [
    "7.What line of code can you add to disable all logging messages in your program? "
   ]
  },
  {
   "cell_type": "code",
   "execution_count": null,
   "id": "a3aae7f4",
   "metadata": {},
   "outputs": [],
   "source": [
    "Answer: logging.disable(logging.CRITICAL)"
   ]
  },
  {
   "cell_type": "code",
   "execution_count": null,
   "id": "05c6849c",
   "metadata": {},
   "outputs": [],
   "source": [
    "8.Why is using logging messages better than using print() to display the same message? "
   ]
  },
  {
   "cell_type": "code",
   "execution_count": null,
   "id": "a691e67b",
   "metadata": {},
   "outputs": [],
   "source": [
    "Ans: So that you can disable logging messages without removing the logging function calls. You can selectively disable lower-level logging messages.\n",
    "     You can create logging messages. Logging messages provides a timestamp."
   ]
  },
  {
   "cell_type": "code",
   "execution_count": null,
   "id": "ac8c0a7f",
   "metadata": {},
   "outputs": [],
   "source": [
    "9.What are the differences between the Step, Over, and Out buttons in the Debug Control window? "
   ]
  },
  {
   "cell_type": "code",
   "execution_count": null,
   "id": "2b484aae",
   "metadata": {},
   "outputs": [],
   "source": [
    "Ans: Answer: The Step button will move the debugger into a function call. The Over button will quickly execute the function call\n",
    "        without stepping into it. The Out button will quickly execute the rest of the code until it steps out of the function it \n",
    "        currently is in."
   ]
  },
  {
   "cell_type": "code",
   "execution_count": null,
   "id": "03bb839c",
   "metadata": {},
   "outputs": [],
   "source": [
    "10.After you click Go in the Debug Control window, when will the debugger stop? "
   ]
  },
  {
   "cell_type": "code",
   "execution_count": null,
   "id": "f5c580f5",
   "metadata": {},
   "outputs": [],
   "source": [
    "Ans: A click Go, the debugger will stop when it has reached the end of the program or a line with a breakpoint."
   ]
  },
  {
   "cell_type": "markdown",
   "id": "306294a1",
   "metadata": {},
   "source": [
    "# "
   ]
  },
  {
   "cell_type": "code",
   "execution_count": null,
   "id": "59f05f4b",
   "metadata": {},
   "outputs": [],
   "source": [
    "11. What is the concept of a breakpoint?"
   ]
  },
  {
   "cell_type": "code",
   "execution_count": null,
   "id": "6f5faa06",
   "metadata": {},
   "outputs": [],
   "source": [
    "Ans:breakpoint is a setting on a line of code that causes the debugger to pause when the program execution reaches the line"
   ]
  }
 ],
 "metadata": {
  "kernelspec": {
   "display_name": "Python 3 (ipykernel)",
   "language": "python",
   "name": "python3"
  },
  "language_info": {
   "codemirror_mode": {
    "name": "ipython",
    "version": 3
   },
   "file_extension": ".py",
   "mimetype": "text/x-python",
   "name": "python",
   "nbconvert_exporter": "python",
   "pygments_lexer": "ipython3",
   "version": "3.9.7"
  }
 },
 "nbformat": 4,
 "nbformat_minor": 5
}
